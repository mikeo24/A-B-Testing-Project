{
 "cells": [
  {
   "cell_type": "code",
   "execution_count": 23,
   "id": "129c6ae3",
   "metadata": {},
   "outputs": [],
   "source": [
    "import pandas as pd \n",
    "import numpy as np\n",
    "import seaborn as sns \n",
    "import matplotlib.pyplot as plt\n",
    "from scipy.stats import shapiro\n",
    "from scipy.stats import levene\n",
    "import scipy.stats as stats\n"
   ]
  },
  {
   "cell_type": "code",
   "execution_count": 2,
   "id": "88cddd64",
   "metadata": {},
   "outputs": [
    {
     "data": {
      "text/html": [
       "<div>\n",
       "<style scoped>\n",
       "    .dataframe tbody tr th:only-of-type {\n",
       "        vertical-align: middle;\n",
       "    }\n",
       "\n",
       "    .dataframe tbody tr th {\n",
       "        vertical-align: top;\n",
       "    }\n",
       "\n",
       "    .dataframe thead th {\n",
       "        text-align: right;\n",
       "    }\n",
       "</style>\n",
       "<table border=\"1\" class=\"dataframe\">\n",
       "  <thead>\n",
       "    <tr style=\"text-align: right;\">\n",
       "      <th></th>\n",
       "      <th>MarketID</th>\n",
       "      <th>MarketSize</th>\n",
       "      <th>LocationID</th>\n",
       "      <th>AgeOfStore</th>\n",
       "      <th>Promotion</th>\n",
       "      <th>week</th>\n",
       "      <th>SalesInThousands</th>\n",
       "    </tr>\n",
       "  </thead>\n",
       "  <tbody>\n",
       "    <tr>\n",
       "      <th>0</th>\n",
       "      <td>1</td>\n",
       "      <td>Medium</td>\n",
       "      <td>1</td>\n",
       "      <td>4</td>\n",
       "      <td>3</td>\n",
       "      <td>1</td>\n",
       "      <td>33.73</td>\n",
       "    </tr>\n",
       "    <tr>\n",
       "      <th>1</th>\n",
       "      <td>1</td>\n",
       "      <td>Medium</td>\n",
       "      <td>1</td>\n",
       "      <td>4</td>\n",
       "      <td>3</td>\n",
       "      <td>2</td>\n",
       "      <td>35.67</td>\n",
       "    </tr>\n",
       "    <tr>\n",
       "      <th>2</th>\n",
       "      <td>1</td>\n",
       "      <td>Medium</td>\n",
       "      <td>1</td>\n",
       "      <td>4</td>\n",
       "      <td>3</td>\n",
       "      <td>3</td>\n",
       "      <td>29.03</td>\n",
       "    </tr>\n",
       "    <tr>\n",
       "      <th>3</th>\n",
       "      <td>1</td>\n",
       "      <td>Medium</td>\n",
       "      <td>1</td>\n",
       "      <td>4</td>\n",
       "      <td>3</td>\n",
       "      <td>4</td>\n",
       "      <td>39.25</td>\n",
       "    </tr>\n",
       "    <tr>\n",
       "      <th>4</th>\n",
       "      <td>1</td>\n",
       "      <td>Medium</td>\n",
       "      <td>2</td>\n",
       "      <td>5</td>\n",
       "      <td>2</td>\n",
       "      <td>1</td>\n",
       "      <td>27.81</td>\n",
       "    </tr>\n",
       "  </tbody>\n",
       "</table>\n",
       "</div>"
      ],
      "text/plain": [
       "   MarketID MarketSize  LocationID  AgeOfStore  Promotion  week  \\\n",
       "0         1     Medium           1           4          3     1   \n",
       "1         1     Medium           1           4          3     2   \n",
       "2         1     Medium           1           4          3     3   \n",
       "3         1     Medium           1           4          3     4   \n",
       "4         1     Medium           2           5          2     1   \n",
       "\n",
       "   SalesInThousands  \n",
       "0             33.73  \n",
       "1             35.67  \n",
       "2             29.03  \n",
       "3             39.25  \n",
       "4             27.81  "
      ]
     },
     "execution_count": 2,
     "metadata": {},
     "output_type": "execute_result"
    }
   ],
   "source": [
    "df = pd.read_csv('WA_Marketing-Campaign.csv')\n",
    "df.head()"
   ]
  },
  {
   "cell_type": "code",
   "execution_count": 3,
   "id": "b2913c98",
   "metadata": {},
   "outputs": [
    {
     "data": {
      "text/plain": [
       "(548, 7)"
      ]
     },
     "execution_count": 3,
     "metadata": {},
     "output_type": "execute_result"
    }
   ],
   "source": [
    "df.shape"
   ]
  },
  {
   "cell_type": "code",
   "execution_count": 62,
   "id": "5f5cc442",
   "metadata": {},
   "outputs": [
    {
     "data": {
      "text/html": [
       "<div>\n",
       "<style scoped>\n",
       "    .dataframe tbody tr th:only-of-type {\n",
       "        vertical-align: middle;\n",
       "    }\n",
       "\n",
       "    .dataframe tbody tr th {\n",
       "        vertical-align: top;\n",
       "    }\n",
       "\n",
       "    .dataframe thead th {\n",
       "        text-align: right;\n",
       "    }\n",
       "</style>\n",
       "<table border=\"1\" class=\"dataframe\">\n",
       "  <thead>\n",
       "    <tr style=\"text-align: right;\">\n",
       "      <th></th>\n",
       "      <th>AgeOfStore</th>\n",
       "      <th>SalesInThousands</th>\n",
       "    </tr>\n",
       "  </thead>\n",
       "  <tbody>\n",
       "    <tr>\n",
       "      <th>0</th>\n",
       "      <td>1</td>\n",
       "      <td>4673.25</td>\n",
       "    </tr>\n",
       "    <tr>\n",
       "      <th>1</th>\n",
       "      <td>4</td>\n",
       "      <td>2351.26</td>\n",
       "    </tr>\n",
       "    <tr>\n",
       "      <th>2</th>\n",
       "      <td>5</td>\n",
       "      <td>2148.02</td>\n",
       "    </tr>\n",
       "    <tr>\n",
       "      <th>3</th>\n",
       "      <td>7</td>\n",
       "      <td>2085.15</td>\n",
       "    </tr>\n",
       "    <tr>\n",
       "      <th>4</th>\n",
       "      <td>8</td>\n",
       "      <td>2019.03</td>\n",
       "    </tr>\n",
       "    <tr>\n",
       "      <th>5</th>\n",
       "      <td>3</td>\n",
       "      <td>1927.28</td>\n",
       "    </tr>\n",
       "    <tr>\n",
       "      <th>6</th>\n",
       "      <td>6</td>\n",
       "      <td>1849.20</td>\n",
       "    </tr>\n",
       "    <tr>\n",
       "      <th>7</th>\n",
       "      <td>9</td>\n",
       "      <td>1371.89</td>\n",
       "    </tr>\n",
       "    <tr>\n",
       "      <th>8</th>\n",
       "      <td>19</td>\n",
       "      <td>1272.76</td>\n",
       "    </tr>\n",
       "    <tr>\n",
       "      <th>9</th>\n",
       "      <td>13</td>\n",
       "      <td>1192.85</td>\n",
       "    </tr>\n",
       "    <tr>\n",
       "      <th>10</th>\n",
       "      <td>2</td>\n",
       "      <td>1183.59</td>\n",
       "    </tr>\n",
       "    <tr>\n",
       "      <th>11</th>\n",
       "      <td>12</td>\n",
       "      <td>1139.59</td>\n",
       "    </tr>\n",
       "    <tr>\n",
       "      <th>12</th>\n",
       "      <td>10</td>\n",
       "      <td>943.53</td>\n",
       "    </tr>\n",
       "    <tr>\n",
       "      <th>13</th>\n",
       "      <td>11</td>\n",
       "      <td>914.55</td>\n",
       "    </tr>\n",
       "    <tr>\n",
       "      <th>14</th>\n",
       "      <td>22</td>\n",
       "      <td>716.26</td>\n",
       "    </tr>\n",
       "    <tr>\n",
       "      <th>15</th>\n",
       "      <td>24</td>\n",
       "      <td>613.69</td>\n",
       "    </tr>\n",
       "    <tr>\n",
       "      <th>16</th>\n",
       "      <td>14</td>\n",
       "      <td>588.76</td>\n",
       "    </tr>\n",
       "    <tr>\n",
       "      <th>17</th>\n",
       "      <td>23</td>\n",
       "      <td>520.78</td>\n",
       "    </tr>\n",
       "    <tr>\n",
       "      <th>18</th>\n",
       "      <td>18</td>\n",
       "      <td>405.68</td>\n",
       "    </tr>\n",
       "    <tr>\n",
       "      <th>19</th>\n",
       "      <td>15</td>\n",
       "      <td>341.39</td>\n",
       "    </tr>\n",
       "    <tr>\n",
       "      <th>20</th>\n",
       "      <td>20</td>\n",
       "      <td>240.81</td>\n",
       "    </tr>\n",
       "    <tr>\n",
       "      <th>21</th>\n",
       "      <td>27</td>\n",
       "      <td>209.57</td>\n",
       "    </tr>\n",
       "    <tr>\n",
       "      <th>22</th>\n",
       "      <td>28</td>\n",
       "      <td>209.14</td>\n",
       "    </tr>\n",
       "    <tr>\n",
       "      <th>23</th>\n",
       "      <td>17</td>\n",
       "      <td>199.75</td>\n",
       "    </tr>\n",
       "    <tr>\n",
       "      <th>24</th>\n",
       "      <td>25</td>\n",
       "      <td>181.70</td>\n",
       "    </tr>\n",
       "  </tbody>\n",
       "</table>\n",
       "</div>"
      ],
      "text/plain": [
       "    AgeOfStore  SalesInThousands\n",
       "0            1           4673.25\n",
       "1            4           2351.26\n",
       "2            5           2148.02\n",
       "3            7           2085.15\n",
       "4            8           2019.03\n",
       "5            3           1927.28\n",
       "6            6           1849.20\n",
       "7            9           1371.89\n",
       "8           19           1272.76\n",
       "9           13           1192.85\n",
       "10           2           1183.59\n",
       "11          12           1139.59\n",
       "12          10            943.53\n",
       "13          11            914.55\n",
       "14          22            716.26\n",
       "15          24            613.69\n",
       "16          14            588.76\n",
       "17          23            520.78\n",
       "18          18            405.68\n",
       "19          15            341.39\n",
       "20          20            240.81\n",
       "21          27            209.57\n",
       "22          28            209.14\n",
       "23          17            199.75\n",
       "24          25            181.70"
      ]
     },
     "execution_count": 62,
     "metadata": {},
     "output_type": "execute_result"
    }
   ],
   "source": [
    "df_age_groupby = df.groupby(['AgeOfStore'])['SalesInThousands'].sum().sort_values(ascending = False).reset_index()\n",
    "df_age_groupby"
   ]
  },
  {
   "cell_type": "code",
   "execution_count": 66,
   "id": "4b28b582",
   "metadata": {},
   "outputs": [
    {
     "name": "stderr",
     "output_type": "stream",
     "text": [
      "/var/folders/3f/7yyndr2s1xsd15b1kh2vc2k00000gn/T/ipykernel_50806/2372680512.py:2: FutureWarning: \n",
      "\n",
      "The `ci` parameter is deprecated. Use `errorbar=None` for the same effect.\n",
      "\n",
      "  sns.barplot(x=\"AgeOfStore\", y=\"SalesInThousands\", data=df_age_groupby, palette=\"Blues\", ci=None)\n",
      "/var/folders/3f/7yyndr2s1xsd15b1kh2vc2k00000gn/T/ipykernel_50806/2372680512.py:2: FutureWarning: \n",
      "\n",
      "Passing `palette` without assigning `hue` is deprecated and will be removed in v0.14.0. Assign the `x` variable to `hue` and set `legend=False` for the same effect.\n",
      "\n",
      "  sns.barplot(x=\"AgeOfStore\", y=\"SalesInThousands\", data=df_age_groupby, palette=\"Blues\", ci=None)\n"
     ]
    },
    {
     "data": {
      "image/png": "[encoded data removed]",
      "text/plain": [
       "<Figure size 864x432 with 1 Axes>"
      ]
     },
     "metadata": {
      "needs_background": "light"
     },
     "output_type": "display_data"
    }
   ],
   "source": [
    "plt.figure(figsize=(12, 6))\n",
    "sns.barplot(x=\"AgeOfStore\", y=\"SalesInThousands\", data=df_age_groupby, palette=\"Blues\", ci=None)\n",
    "\n",
    "# Customizing the plot\n",
    "plt.title(\"Total Sales by Age of Store\", fontsize=16)\n",
    "plt.xlabel(\"Age of Store (Years)\", fontsize=14)\n",
    "plt.ylabel(\"Total Sales (in Thousands)\", fontsize=14)\n",
    "plt.xticks(rotation=45)  # Rotate x-axis labels for better readability\n",
    "\n",
    "# Show the graph\n",
    "plt.show()"
   ]
  },
  {
   "cell_type": "markdown",
   "id": "6ecf5e12",
   "metadata": {},
   "source": [
    "**From the graph above, most of the stores 9 years and younger tends to perform better in sales than the one . There's an obvious outlier to the right for stores that are 1 year old, they tend to generate a lot of sales.** "
   ]
  },
  {
   "cell_type": "code",
   "execution_count": 70,
   "id": "446952ac",
   "metadata": {},
   "outputs": [
    {
     "data": {
      "text/html": [
       "<div>\n",
       "<style scoped>\n",
       "    .dataframe tbody tr th:only-of-type {\n",
       "        vertical-align: middle;\n",
       "    }\n",
       "\n",
       "    .dataframe tbody tr th {\n",
       "        vertical-align: top;\n",
       "    }\n",
       "\n",
       "    .dataframe thead th {\n",
       "        text-align: right;\n",
       "    }\n",
       "</style>\n",
       "<table border=\"1\" class=\"dataframe\">\n",
       "  <thead>\n",
       "    <tr style=\"text-align: right;\">\n",
       "      <th></th>\n",
       "      <th>AgeOfStore</th>\n",
       "      <th>MarketSize</th>\n",
       "      <th>SalesInThousands</th>\n",
       "    </tr>\n",
       "  </thead>\n",
       "  <tbody>\n",
       "    <tr>\n",
       "      <th>51</th>\n",
       "      <td>28</td>\n",
       "      <td>Small</td>\n",
       "      <td>209.14</td>\n",
       "    </tr>\n",
       "    <tr>\n",
       "      <th>50</th>\n",
       "      <td>27</td>\n",
       "      <td>Medium</td>\n",
       "      <td>209.57</td>\n",
       "    </tr>\n",
       "    <tr>\n",
       "      <th>49</th>\n",
       "      <td>25</td>\n",
       "      <td>Medium</td>\n",
       "      <td>181.70</td>\n",
       "    </tr>\n",
       "    <tr>\n",
       "      <th>48</th>\n",
       "      <td>24</td>\n",
       "      <td>Medium</td>\n",
       "      <td>371.73</td>\n",
       "    </tr>\n",
       "    <tr>\n",
       "      <th>47</th>\n",
       "      <td>24</td>\n",
       "      <td>Large</td>\n",
       "      <td>241.96</td>\n",
       "    </tr>\n",
       "    <tr>\n",
       "      <th>46</th>\n",
       "      <td>23</td>\n",
       "      <td>Medium</td>\n",
       "      <td>211.98</td>\n",
       "    </tr>\n",
       "    <tr>\n",
       "      <th>45</th>\n",
       "      <td>23</td>\n",
       "      <td>Large</td>\n",
       "      <td>308.80</td>\n",
       "    </tr>\n",
       "    <tr>\n",
       "      <th>44</th>\n",
       "      <td>22</td>\n",
       "      <td>Small</td>\n",
       "      <td>519.76</td>\n",
       "    </tr>\n",
       "    <tr>\n",
       "      <th>43</th>\n",
       "      <td>22</td>\n",
       "      <td>Medium</td>\n",
       "      <td>196.50</td>\n",
       "    </tr>\n",
       "    <tr>\n",
       "      <th>42</th>\n",
       "      <td>20</td>\n",
       "      <td>Medium</td>\n",
       "      <td>240.81</td>\n",
       "    </tr>\n",
       "    <tr>\n",
       "      <th>39</th>\n",
       "      <td>19</td>\n",
       "      <td>Large</td>\n",
       "      <td>705.32</td>\n",
       "    </tr>\n",
       "    <tr>\n",
       "      <th>40</th>\n",
       "      <td>19</td>\n",
       "      <td>Medium</td>\n",
       "      <td>315.37</td>\n",
       "    </tr>\n",
       "    <tr>\n",
       "      <th>41</th>\n",
       "      <td>19</td>\n",
       "      <td>Small</td>\n",
       "      <td>252.07</td>\n",
       "    </tr>\n",
       "    <tr>\n",
       "      <th>38</th>\n",
       "      <td>18</td>\n",
       "      <td>Medium</td>\n",
       "      <td>405.68</td>\n",
       "    </tr>\n",
       "    <tr>\n",
       "      <th>37</th>\n",
       "      <td>17</td>\n",
       "      <td>Medium</td>\n",
       "      <td>199.75</td>\n",
       "    </tr>\n",
       "    <tr>\n",
       "      <th>36</th>\n",
       "      <td>15</td>\n",
       "      <td>Medium</td>\n",
       "      <td>341.39</td>\n",
       "    </tr>\n",
       "    <tr>\n",
       "      <th>35</th>\n",
       "      <td>14</td>\n",
       "      <td>Medium</td>\n",
       "      <td>187.24</td>\n",
       "    </tr>\n",
       "    <tr>\n",
       "      <th>34</th>\n",
       "      <td>14</td>\n",
       "      <td>Large</td>\n",
       "      <td>401.52</td>\n",
       "    </tr>\n",
       "    <tr>\n",
       "      <th>33</th>\n",
       "      <td>13</td>\n",
       "      <td>Small</td>\n",
       "      <td>242.97</td>\n",
       "    </tr>\n",
       "    <tr>\n",
       "      <th>32</th>\n",
       "      <td>13</td>\n",
       "      <td>Medium</td>\n",
       "      <td>421.90</td>\n",
       "    </tr>\n",
       "    <tr>\n",
       "      <th>31</th>\n",
       "      <td>13</td>\n",
       "      <td>Large</td>\n",
       "      <td>527.98</td>\n",
       "    </tr>\n",
       "    <tr>\n",
       "      <th>30</th>\n",
       "      <td>12</td>\n",
       "      <td>Medium</td>\n",
       "      <td>806.23</td>\n",
       "    </tr>\n",
       "    <tr>\n",
       "      <th>29</th>\n",
       "      <td>12</td>\n",
       "      <td>Large</td>\n",
       "      <td>333.36</td>\n",
       "    </tr>\n",
       "    <tr>\n",
       "      <th>27</th>\n",
       "      <td>11</td>\n",
       "      <td>Large</td>\n",
       "      <td>336.57</td>\n",
       "    </tr>\n",
       "    <tr>\n",
       "      <th>28</th>\n",
       "      <td>11</td>\n",
       "      <td>Medium</td>\n",
       "      <td>577.98</td>\n",
       "    </tr>\n",
       "    <tr>\n",
       "      <th>26</th>\n",
       "      <td>10</td>\n",
       "      <td>Medium</td>\n",
       "      <td>546.87</td>\n",
       "    </tr>\n",
       "    <tr>\n",
       "      <th>25</th>\n",
       "      <td>10</td>\n",
       "      <td>Large</td>\n",
       "      <td>396.66</td>\n",
       "    </tr>\n",
       "    <tr>\n",
       "      <th>24</th>\n",
       "      <td>9</td>\n",
       "      <td>Small</td>\n",
       "      <td>235.55</td>\n",
       "    </tr>\n",
       "    <tr>\n",
       "      <th>23</th>\n",
       "      <td>9</td>\n",
       "      <td>Medium</td>\n",
       "      <td>949.94</td>\n",
       "    </tr>\n",
       "    <tr>\n",
       "      <th>22</th>\n",
       "      <td>9</td>\n",
       "      <td>Large</td>\n",
       "      <td>186.40</td>\n",
       "    </tr>\n",
       "    <tr>\n",
       "      <th>21</th>\n",
       "      <td>8</td>\n",
       "      <td>Small</td>\n",
       "      <td>701.87</td>\n",
       "    </tr>\n",
       "    <tr>\n",
       "      <th>20</th>\n",
       "      <td>8</td>\n",
       "      <td>Medium</td>\n",
       "      <td>967.50</td>\n",
       "    </tr>\n",
       "    <tr>\n",
       "      <th>19</th>\n",
       "      <td>8</td>\n",
       "      <td>Large</td>\n",
       "      <td>349.66</td>\n",
       "    </tr>\n",
       "    <tr>\n",
       "      <th>18</th>\n",
       "      <td>7</td>\n",
       "      <td>Small</td>\n",
       "      <td>401.01</td>\n",
       "    </tr>\n",
       "    <tr>\n",
       "      <th>17</th>\n",
       "      <td>7</td>\n",
       "      <td>Medium</td>\n",
       "      <td>461.97</td>\n",
       "    </tr>\n",
       "    <tr>\n",
       "      <th>16</th>\n",
       "      <td>7</td>\n",
       "      <td>Large</td>\n",
       "      <td>1222.17</td>\n",
       "    </tr>\n",
       "    <tr>\n",
       "      <th>14</th>\n",
       "      <td>6</td>\n",
       "      <td>Large</td>\n",
       "      <td>768.88</td>\n",
       "    </tr>\n",
       "    <tr>\n",
       "      <th>15</th>\n",
       "      <td>6</td>\n",
       "      <td>Medium</td>\n",
       "      <td>1080.32</td>\n",
       "    </tr>\n",
       "    <tr>\n",
       "      <th>12</th>\n",
       "      <td>5</td>\n",
       "      <td>Medium</td>\n",
       "      <td>1222.75</td>\n",
       "    </tr>\n",
       "    <tr>\n",
       "      <th>11</th>\n",
       "      <td>5</td>\n",
       "      <td>Large</td>\n",
       "      <td>689.12</td>\n",
       "    </tr>\n",
       "    <tr>\n",
       "      <th>13</th>\n",
       "      <td>5</td>\n",
       "      <td>Small</td>\n",
       "      <td>236.15</td>\n",
       "    </tr>\n",
       "    <tr>\n",
       "      <th>10</th>\n",
       "      <td>4</td>\n",
       "      <td>Medium</td>\n",
       "      <td>1374.66</td>\n",
       "    </tr>\n",
       "    <tr>\n",
       "      <th>9</th>\n",
       "      <td>4</td>\n",
       "      <td>Large</td>\n",
       "      <td>976.60</td>\n",
       "    </tr>\n",
       "    <tr>\n",
       "      <th>8</th>\n",
       "      <td>3</td>\n",
       "      <td>Small</td>\n",
       "      <td>234.75</td>\n",
       "    </tr>\n",
       "    <tr>\n",
       "      <th>7</th>\n",
       "      <td>3</td>\n",
       "      <td>Medium</td>\n",
       "      <td>574.15</td>\n",
       "    </tr>\n",
       "    <tr>\n",
       "      <th>6</th>\n",
       "      <td>3</td>\n",
       "      <td>Large</td>\n",
       "      <td>1118.38</td>\n",
       "    </tr>\n",
       "    <tr>\n",
       "      <th>5</th>\n",
       "      <td>2</td>\n",
       "      <td>Small</td>\n",
       "      <td>202.25</td>\n",
       "    </tr>\n",
       "    <tr>\n",
       "      <th>4</th>\n",
       "      <td>2</td>\n",
       "      <td>Medium</td>\n",
       "      <td>143.14</td>\n",
       "    </tr>\n",
       "    <tr>\n",
       "      <th>3</th>\n",
       "      <td>2</td>\n",
       "      <td>Large</td>\n",
       "      <td>838.20</td>\n",
       "    </tr>\n",
       "    <tr>\n",
       "      <th>2</th>\n",
       "      <td>1</td>\n",
       "      <td>Small</td>\n",
       "      <td>209.04</td>\n",
       "    </tr>\n",
       "    <tr>\n",
       "      <th>1</th>\n",
       "      <td>1</td>\n",
       "      <td>Medium</td>\n",
       "      <td>2086.18</td>\n",
       "    </tr>\n",
       "    <tr>\n",
       "      <th>0</th>\n",
       "      <td>1</td>\n",
       "      <td>Large</td>\n",
       "      <td>2378.03</td>\n",
       "    </tr>\n",
       "  </tbody>\n",
       "</table>\n",
       "</div>"
      ],
      "text/plain": [
       "    AgeOfStore MarketSize  SalesInThousands\n",
       "51          28      Small            209.14\n",
       "50          27     Medium            209.57\n",
       "49          25     Medium            181.70\n",
       "48          24     Medium            371.73\n",
       "47          24      Large            241.96\n",
       "46          23     Medium            211.98\n",
       "45          23      Large            308.80\n",
       "44          22      Small            519.76\n",
       "43          22     Medium            196.50\n",
       "42          20     Medium            240.81\n",
       "39          19      Large            705.32\n",
       "40          19     Medium            315.37\n",
       "41          19      Small            252.07\n",
       "38          18     Medium            405.68\n",
       "37          17     Medium            199.75\n",
       "36          15     Medium            341.39\n",
       "35          14     Medium            187.24\n",
       "34          14      Large            401.52\n",
       "33          13      Small            242.97\n",
       "32          13     Medium            421.90\n",
       "31          13      Large            527.98\n",
       "30          12     Medium            806.23\n",
       "29          12      Large            333.36\n",
       "27          11      Large            336.57\n",
       "28          11     Medium            577.98\n",
       "26          10     Medium            546.87\n",
       "25          10      Large            396.66\n",
       "24           9      Small            235.55\n",
       "23           9     Medium            949.94\n",
       "22           9      Large            186.40\n",
       "21           8      Small            701.87\n",
       "20           8     Medium            967.50\n",
       "19           8      Large            349.66\n",
       "18           7      Small            401.01\n",
       "17           7     Medium            461.97\n",
       "16           7      Large           1222.17\n",
       "14           6      Large            768.88\n",
       "15           6     Medium           1080.32\n",
       "12           5     Medium           1222.75\n",
       "11           5      Large            689.12\n",
       "13           5      Small            236.15\n",
       "10           4     Medium           1374.66\n",
       "9            4      Large            976.60\n",
       "8            3      Small            234.75\n",
       "7            3     Medium            574.15\n",
       "6            3      Large           1118.38\n",
       "5            2      Small            202.25\n",
       "4            2     Medium            143.14\n",
       "3            2      Large            838.20\n",
       "2            1      Small            209.04\n",
       "1            1     Medium           2086.18\n",
       "0            1      Large           2378.03"
      ]
     },
     "execution_count": 70,
     "metadata": {},
     "output_type": "execute_result"
    }
   ],
   "source": [
    "df_age_groupby_market = df.groupby(['AgeOfStore', 'MarketSize'])['SalesInThousands'].sum().reset_index()\n",
    "\n",
    "# Corrected Sorting\n",
    "df_age_groupby_market = df_age_groupby_market.sort_values(by='AgeOfStore', ascending=False)\n",
    "\n",
    "df_age_groupby_market"
   ]
  },
  {
   "cell_type": "code",
   "execution_count": 83,
   "id": "2f6bd375",
   "metadata": {},
   "outputs": [
    {
     "data": {
      "text/html": [
       "<div>\n",
       "<style scoped>\n",
       "    .dataframe tbody tr th:only-of-type {\n",
       "        vertical-align: middle;\n",
       "    }\n",
       "\n",
       "    .dataframe tbody tr th {\n",
       "        vertical-align: top;\n",
       "    }\n",
       "\n",
       "    .dataframe thead th {\n",
       "        text-align: right;\n",
       "    }\n",
       "</style>\n",
       "<table border=\"1\" class=\"dataframe\">\n",
       "  <thead>\n",
       "    <tr style=\"text-align: right;\">\n",
       "      <th></th>\n",
       "      <th>MarketSize</th>\n",
       "      <th>AgeOfStore</th>\n",
       "    </tr>\n",
       "  </thead>\n",
       "  <tbody>\n",
       "    <tr>\n",
       "      <th>0</th>\n",
       "      <td>Large</td>\n",
       "      <td>10.06</td>\n",
       "    </tr>\n",
       "    <tr>\n",
       "      <th>2</th>\n",
       "      <td>Small</td>\n",
       "      <td>10.64</td>\n",
       "    </tr>\n",
       "    <tr>\n",
       "      <th>1</th>\n",
       "      <td>Medium</td>\n",
       "      <td>13.12</td>\n",
       "    </tr>\n",
       "  </tbody>\n",
       "</table>\n",
       "</div>"
      ],
      "text/plain": [
       "  MarketSize  AgeOfStore\n",
       "0      Large       10.06\n",
       "2      Small       10.64\n",
       "1     Medium       13.12"
      ]
     },
     "execution_count": 83,
     "metadata": {},
     "output_type": "execute_result"
    }
   ],
   "source": [
    "df_age_market = df_age_groupby_market.groupby('MarketSize')['AgeOfStore'].mean().reset_index()\n",
    "\n",
    "df_age_market = round(df_age_market.sort_values(by='AgeOfStore', ascending = True), 2)\n",
    "\n",
    "df_age_market"
   ]
  },
  {
   "cell_type": "markdown",
   "id": "174c6275",
   "metadata": {},
   "source": [
    "- On average Large market tends to have younger at 10.6 year old, suggesting that newer stores tend to be in larger market.\n",
    "\n",
    "\n",
    "- Small markets are a little bit older than large market but still relatively young. Suggesting that small markets still receive new stores but not as frequent as large market.\n",
    "\n",
    "\n",
    "- Medium market have the oldest stores 13.12, suggesting that the market might be saturated and not as profitable for new store opening."
   ]
  },
  {
   "cell_type": "code",
   "execution_count": 78,
   "id": "6a964f15",
   "metadata": {},
   "outputs": [
    {
     "data": {
      "text/plain": [
       "AgeOfStore            int64\n",
       "MarketSize           object\n",
       "SalesInThousands    float64\n",
       "dtype: object"
      ]
     },
     "execution_count": 78,
     "metadata": {},
     "output_type": "execute_result"
    }
   ],
   "source": [
    "df_age_market.dtypes"
   ]
  },
  {
   "cell_type": "code",
   "execution_count": 75,
   "id": "08c47bc0",
   "metadata": {},
   "outputs": [
    {
     "name": "stderr",
     "output_type": "stream",
     "text": [
      "/var/folders/3f/7yyndr2s1xsd15b1kh2vc2k00000gn/T/ipykernel_50806/522832729.py:4: FutureWarning: \n",
      "\n",
      "The `ci` parameter is deprecated. Use `errorbar=None` for the same effect.\n",
      "\n",
      "  sns.barplot(x='AgeOfStore', y='SalesInThousands', hue='MarketSize', data=df_age_groupby_market,\n"
     ]
    },
    {
     "data": {
      "image/png": "[encoded data removed]",
      "text/plain": [
       "<Figure size 1008x504 with 1 Axes>"
      ]
     },
     "metadata": {
      "needs_background": "light"
     },
     "output_type": "display_data"
    }
   ],
   "source": [
    "plt.figure(figsize=(14, 7))\n",
    "\n",
    "# Bar plot with improved aesthetics\n",
    "sns.barplot(x='AgeOfStore', y='SalesInThousands', hue='MarketSize', data=df_age_groupby_market,\n",
    "            palette=\"viridis\", ci=None, dodge=True)\n",
    "\n",
    "plt.title(\"Total Sales by Age of Store and Market Size\", fontsize=18, fontweight=\"bold\")\n",
    "plt.xlabel(\"Age of Store (Years)\", fontsize=14)\n",
    "plt.ylabel(\"Total Sales (in Thousands)\", fontsize=14)\n",
    "plt.xticks(rotation=45)  # Rotate labels for better readability\n",
    "\n",
    "plt.grid(axis='y', linestyle='--', alpha=0.7)\n",
    "\n",
    "plt.legend(title=\"Market Size\", fontsize=12, loc=\"upper right\")\n",
    "\n",
    "plt.show()\n"
   ]
  },
  {
   "cell_type": "markdown",
   "id": "111a6e59",
   "metadata": {},
   "source": [
    "- **Younger stores in large and medium markets drive the highest revenue.**  \n",
    "  - This suggests that **new store openings in these markets are highly profitable.**\n",
    "  \n",
    "- **Sales decline over time**, so strategies should be implemented to **revitalize older stores**, such as:\n",
    "  - Promotions  \n",
    "  - Renovations  \n",
    "  - Rebranding  \n",
    "\n",
    "- **Small market stores struggle the most**, so investments in such locations should be carefully evaluated.\n",
    "\n",
    "- **Look into the anomalies in older stores with high sales** (e.g., 9, 12, 19, 22 years old) to determine what contributes to their success.\n",
    "\n",
    "Would you like a deeper statistical breakdown or specific insights into trends? 🚀\n"
   ]
  },
  {
   "cell_type": "markdown",
   "id": "215b86a5",
   "metadata": {},
   "source": [
    "**Continuous variable**: SalesInThousands\n",
    "**Categorical variables**: Promotion & MarketSize\n",
    "\n",
    "If sample size is above 30 variables it is a large sample size (**548**)"
   ]
  },
  {
   "cell_type": "markdown",
   "id": "4ebb36ba",
   "metadata": {},
   "source": [
    "Test if the **SalesInThousands** is continuous "
   ]
  },
  {
   "cell_type": "code",
   "execution_count": 67,
   "id": "1604d3a7",
   "metadata": {},
   "outputs": [
    {
     "name": "stderr",
     "output_type": "stream",
     "text": [
      "/var/folders/3f/7yyndr2s1xsd15b1kh2vc2k00000gn/T/ipykernel_50806/2454009478.py:1: UserWarning: Ignoring `palette` because no `hue` variable has been assigned.\n",
      "  sns.histplot(df['SalesInThousands'], kde=True, palette='Blues')\n"
     ]
    },
    {
     "data": {
      "image/png": "[encoded data removed]",
      "text/plain": [
       "<Figure size 432x288 with 1 Axes>"
      ]
     },
     "metadata": {
      "needs_background": "light"
     },
     "output_type": "display_data"
    }
   ],
   "source": [
    "sns.histplot(df['SalesInThousands'], kde=True, palette='Blues')\n",
    "plt.title(\"Histogram of SalesInThousands\")\n",
    "plt.show()"
   ]
  },
  {
   "cell_type": "markdown",
   "id": "6e427982",
   "metadata": {},
   "source": [
    "Due to the binomial distribution we bserved that there are two distinct peaks"
   ]
  },
  {
   "cell_type": "code",
   "execution_count": 6,
   "id": "7045f6f2",
   "metadata": {},
   "outputs": [],
   "source": [
    "# Shapiro test to check normality with T-stat and p-value\n",
    "\n",
    "shapiro_results = {}\n",
    "\n",
    "for promo in df['Promotion'].unique():\n",
    "    group_data = df[df['Promotion'] == promo]['SalesInThousands']\n",
    "    stat, p_value =  shapiro(group_data)\n",
    "    shapiro_results[f'Promotion {promo}'] = (stat, p_value)"
   ]
  },
  {
   "cell_type": "code",
   "execution_count": 7,
   "id": "b1479ba4",
   "metadata": {},
   "outputs": [
    {
     "data": {
      "text/plain": [
       "{'Promotion 3': (0.9207685589790344, 1.499518376135711e-08),\n",
       " 'Promotion 2': (0.9145088791847229, 5.456262108793908e-09),\n",
       " 'Promotion 1': (0.9152998328208923, 1.977244323825289e-08)}"
      ]
     },
     "execution_count": 7,
     "metadata": {},
     "output_type": "execute_result"
    }
   ],
   "source": [
    "shapiro_results"
   ]
  },
  {
   "cell_type": "markdown",
   "id": "309912ad",
   "metadata": {},
   "source": [
    "If Pvalue is less than 0.05 (Pvalue < 0.05) then the data is not normally distributed which is shown in all 3 promotions."
   ]
  },
  {
   "cell_type": "code",
   "execution_count": 8,
   "id": "009668a6",
   "metadata": {},
   "outputs": [
    {
     "data": {
      "image/png": "[encoded data removed]",
      "text/plain": [
       "<Figure size 864x576 with 1 Axes>"
      ]
     },
     "metadata": {
      "needs_background": "light"
     },
     "output_type": "display_data"
    }
   ],
   "source": [
    "plt.figure(figsize=(12, 8))\n",
    "colors = ['blue', 'orange', 'green']\n",
    "\n",
    "\n",
    "for i, promo in enumerate(df['Promotion'].unique()):\n",
    "    sns.histplot(df[df['Promotion'] == promo]['SalesInThousands'], kde=True, \n",
    "                 label=f'Promotion {promo}', alpha=0.6, color=colors[i])\n",
    "\n",
    "    # Add titles and labels\n",
    "plt.title('Histogram of SalesInThousands Grouped by Promotion', fontsize=16)\n",
    "plt.xlabel('SalesInThousands', fontsize=14)\n",
    "plt.ylabel('Frequency', fontsize=14)\n",
    "plt.legend(title=\"Promotion\", fontsize=12)\n",
    "plt.show()"
   ]
  },
  {
   "cell_type": "markdown",
   "id": "9653056f",
   "metadata": {},
   "source": [
    "#### 1. Let's check the variance equality (Levene's Test)\n",
    "\n",
    "> - Since normality has failed, knowing whether variances are equal will guide our next step.\n",
    "\n",
    "> - If variances are equal, you may proceed with ANOVA (or Welch’s ANOVA if not).\n"
   ]
  },
  {
   "cell_type": "code",
   "execution_count": 9,
   "id": "19de6057",
   "metadata": {},
   "outputs": [
    {
     "data": {
      "text/plain": [
       "{\"Levene's Statistic\": 1.2696787527507418, 'P-Value': 0.2817514565692118}"
      ]
     },
     "execution_count": 9,
     "metadata": {},
     "output_type": "execute_result"
    }
   ],
   "source": [
    "# Perform Levene's Test for variance equality across promotion groups\n",
    "\n",
    "\n",
    "levene_stat, levene_p = levene(\n",
    "    df[df['Promotion'] == 1]['SalesInThousands'],\n",
    "    df[df['Promotion'] == 2]['SalesInThousands'],\n",
    "    df[df['Promotion'] == 3]['SalesInThousands']\n",
    ")\n",
    "\n",
    "levene_results = {\n",
    "    \"Levene's Statistic\": levene_stat,\n",
    "    \"P-Value\": levene_p\n",
    "}\n",
    "\n",
    "levene_results"
   ]
  },
  {
   "cell_type": "markdown",
   "id": "ef6c2cc8",
   "metadata": {},
   "source": [
    "The Null Hypothesis H0:\n",
    "\n",
    "> - The variances across the groups (Promotions 1, 2, and 3) are equal.\n",
    "\n",
    "P-value interpretation:\n",
    "\n",
    "> - p=0.282>0.05, we fail to reject the null hypothesis.\n",
    "> - This means there is no significant difference in variances across the promotion groups.\n",
    "\n",
    "**Conclusion:** If p value > 0.05 that means the variances are equal, that means in this case we will proceed with the two Anova test. \n",
    "\n",
    "- First we will need to address the normaility by transforming our data (SalesInThousands)\n",
    "\n",
    "- If variances are equal, you may proceed with ANOVA (or Welch’s ANOVA if not)."
   ]
  },
  {
   "cell_type": "markdown",
   "id": "196716d7",
   "metadata": {},
   "source": [
    "- Decide on Transformation or Non-Parametric Tests:\n",
    "\n",
    "> - If variance equality fails, move directly to Kruskal-Wallis.\n",
    "> - If variance equality holds, consider transforming the data and proceeding with ANOVA."
   ]
  },
  {
   "cell_type": "markdown",
   "id": "6203d8f3",
   "metadata": {},
   "source": [
    "### Two Way ANOVA "
   ]
  },
  {
   "cell_type": "markdown",
   "id": "3fa3bc84",
   "metadata": {},
   "source": [
    "1. Main Effects:\n",
    "\n",
    "    > - Testing whether promotions affect sales:\n",
    "    \n",
    "          > - H0: Mean sales are the same across all promotions.\n",
    "        \n",
    "          > - HA: Mean sales differ for at least one promotion (no assumption about which is higher or lower).\n",
    "        \n",
    "    > - Testing whether market sizes affect sales:\n",
    "    \n",
    "          > - H0: Mean sales are the same across all market sizes.\n",
    "        \n",
    "          > - HA: Mean sales differ for at least one market size.\n",
    "        \n",
    "1. Interaction effect:\n",
    "\n",
    "    > - Testing whether the effect of promotions depends on market size:\n",
    "    \n",
    "          > - H0: There is no interaction between promotion and market size.\n",
    "        \n",
    "          > - HA: There is an interaction (e.g., Promotion 1 might perform better in large markets but worse in small markets)."
   ]
  },
  {
   "cell_type": "code",
   "execution_count": 10,
   "id": "9241587c",
   "metadata": {},
   "outputs": [],
   "source": [
    "# Transform the data\n",
    "\n",
    "df['LogSales'] = np.log(df['SalesInThousands'] + 1)  # Add 1 to avoid log(0)"
   ]
  },
  {
   "cell_type": "code",
   "execution_count": 11,
   "id": "ab0fab5f",
   "metadata": {},
   "outputs": [
    {
     "name": "stdout",
     "output_type": "stream",
     "text": [
      "Shapiro-Wilk Test: W=0.980830192565918, p=1.31114768464613e-06\n"
     ]
    },
    {
     "data": {
      "image/png": "[encoded data removed]",
      "text/plain": [
       "<Figure size 432x288 with 1 Axes>"
      ]
     },
     "metadata": {
      "needs_background": "light"
     },
     "output_type": "display_data"
    }
   ],
   "source": [
    "# Shapiro-Wilk test on transformed data\n",
    "stat, p_value = shapiro(df['LogSales'])\n",
    "print(f\"Shapiro-Wilk Test: W={stat}, p={p_value}\")\n",
    "\n",
    "# Q-Q Plot\n",
    "stats.probplot(df['LogSales'], dist=\"norm\", plot=plt)\n",
    "plt.title(\"Q-Q Plot of Log-Transformed Sales\")\n",
    "plt.show()"
   ]
  },
  {
   "cell_type": "markdown",
   "id": "f3371c39",
   "metadata": {},
   "source": [
    "Since Pvalue < 0.05 then we can assume the data is not normally distributed."
   ]
  },
  {
   "cell_type": "code",
   "execution_count": 12,
   "id": "63561b13",
   "metadata": {},
   "outputs": [
    {
     "name": "stdout",
     "output_type": "stream",
     "text": [
      "Fitted Lambda: -0.0013957254257198038\n"
     ]
    }
   ],
   "source": [
    "# Let's try the boxcox transformation to normalize the data \n",
    "\n",
    "from scipy.stats import boxcox\n",
    "\n",
    "# Apply Box-Cox transformation (add 1 to avoid issues with zeros)\n",
    "df['BoxCoxSales'], fitted_lambda = boxcox(df['SalesInThousands'] + 1)\n",
    "print(f\"Fitted Lambda: {fitted_lambda}\")"
   ]
  },
  {
   "cell_type": "code",
   "execution_count": 13,
   "id": "6852c23e",
   "metadata": {},
   "outputs": [
    {
     "name": "stdout",
     "output_type": "stream",
     "text": [
      "Shapiro-Wilk Test: W=0.9808399081230164, p=1.3190174286137335e-06\n"
     ]
    },
    {
     "data": {
      "image/png": "[encoded data removed]",
      "text/plain": [
       "<Figure size 432x288 with 1 Axes>"
      ]
     },
     "metadata": {
      "needs_background": "light"
     },
     "output_type": "display_data"
    },
    {
     "data": {
      "image/png": "[encoded data removed]",
      "text/plain": [
       "<Figure size 432x288 with 1 Axes>"
      ]
     },
     "metadata": {
      "needs_background": "light"
     },
     "output_type": "display_data"
    }
   ],
   "source": [
    "# Shapiro-Wilk test on Box-Cox transformed data\n",
    "stat, p_value = shapiro(df['BoxCoxSales'])\n",
    "print(f\"Shapiro-Wilk Test: W={stat}, p={p_value}\")\n",
    "\n",
    "# Q-Q Plot\n",
    "stats.probplot(df['BoxCoxSales'], dist=\"norm\", plot=plt)\n",
    "plt.title(\"Q-Q Plot of Box-Cox Transformed Sales\")\n",
    "plt.show()\n",
    "\n",
    "# Histogram\n",
    "sns.histplot(df['BoxCoxSales'], kde=True)\n",
    "plt.title(\"Histogram of Box-Cox Transformed Sales\")\n",
    "plt.show()"
   ]
  },
  {
   "cell_type": "markdown",
   "id": "99d19d69",
   "metadata": {},
   "source": [
    "Due to the non normality of the data we will use a Non-Parametric test: **Kruskal-Wallis**"
   ]
  },
  {
   "cell_type": "markdown",
   "id": "a09675ac",
   "metadata": {},
   "source": [
    "## Welch's ANOVA"
   ]
  },
  {
   "cell_type": "markdown",
   "id": "202c1939",
   "metadata": {},
   "source": [
    "### 1. Main Comparison"
   ]
  },
  {
   "cell_type": "code",
   "execution_count": 14,
   "id": "2bc717fe",
   "metadata": {},
   "outputs": [],
   "source": [
    "from statsmodels.formula.api import ols\n",
    "import statsmodels.api as sm"
   ]
  },
  {
   "cell_type": "code",
   "execution_count": 15,
   "id": "fc9be54c",
   "metadata": {},
   "outputs": [],
   "source": [
    "# Fit the model the C is used for categorical columns.\n",
    "model = ols('SalesInThousands ~ C(Promotion)', data=df).fit()\n",
    "\n",
    "# Perform Welch's ANOVA\n",
    "anova_results = sm.stats.anova_lm(model, typ=2)"
   ]
  },
  {
   "cell_type": "code",
   "execution_count": 16,
   "id": "33ad7a9b",
   "metadata": {},
   "outputs": [
    {
     "name": "stdout",
     "output_type": "stream",
     "text": [
      "Welch's ANOVA Results:\n",
      "                     sum_sq     df          F        PR(>F)\n",
      "C(Promotion)   11449.174291    2.0  21.953486  6.765849e-10\n",
      "Residual      142114.105414  545.0        NaN           NaN\n"
     ]
    }
   ],
   "source": [
    "print(\"Welch's ANOVA Results:\")\n",
    "print(anova_results)"
   ]
  },
  {
   "cell_type": "code",
   "execution_count": 17,
   "id": "ad48e5f2",
   "metadata": {},
   "outputs": [
    {
     "data": {
      "text/html": [
       "<div>\n",
       "<style scoped>\n",
       "    .dataframe tbody tr th:only-of-type {\n",
       "        vertical-align: middle;\n",
       "    }\n",
       "\n",
       "    .dataframe tbody tr th {\n",
       "        vertical-align: top;\n",
       "    }\n",
       "\n",
       "    .dataframe thead th {\n",
       "        text-align: right;\n",
       "    }\n",
       "</style>\n",
       "<table border=\"1\" class=\"dataframe\">\n",
       "  <thead>\n",
       "    <tr style=\"text-align: right;\">\n",
       "      <th></th>\n",
       "      <th>sum_sq</th>\n",
       "      <th>df</th>\n",
       "      <th>F</th>\n",
       "      <th>PR(&gt;F)</th>\n",
       "    </tr>\n",
       "  </thead>\n",
       "  <tbody>\n",
       "    <tr>\n",
       "      <th>C(Promotion)</th>\n",
       "      <td>11449.174291</td>\n",
       "      <td>2.0</td>\n",
       "      <td>21.953486</td>\n",
       "      <td>6.765849e-10</td>\n",
       "    </tr>\n",
       "    <tr>\n",
       "      <th>Residual</th>\n",
       "      <td>142114.105414</td>\n",
       "      <td>545.0</td>\n",
       "      <td>NaN</td>\n",
       "      <td>NaN</td>\n",
       "    </tr>\n",
       "  </tbody>\n",
       "</table>\n",
       "</div>"
      ],
      "text/plain": [
       "                     sum_sq     df          F        PR(>F)\n",
       "C(Promotion)   11449.174291    2.0  21.953486  6.765849e-10\n",
       "Residual      142114.105414  545.0        NaN           NaN"
      ]
     },
     "execution_count": 17,
     "metadata": {},
     "output_type": "execute_result"
    }
   ],
   "source": [
    "anova_table = pd.DataFrame(anova_results)\n",
    "anova_table"
   ]
  },
  {
   "cell_type": "markdown",
   "id": "d64b6689",
   "metadata": {},
   "source": [
    "- **Sum of Squares** of **11449.17 / 142114.10**, This represents the variation in sales that can be explained by the differences between the promotion groups.\n",
    "\n",
    "> -In our case, **11,449.17** indicates that the promotions have a measurable impact on sales.\n",
    "> - However, this number alone doesn’t tell us the proportion of the total variability explained. For that, we calculate R^2 (effect size)\n",
    "\n",
    "- **Degree of freedom** - the **1** It ensures that we only calculate meaningful variability between groups and that the F-statistic isn't inflated by unnecessary comparisons.\n",
    "\n",
    "The \"2 degrees of freedom\" mean you have 2 comparisons to calculate:\n",
    "\n",
    "> - Promotion 1 vs. Promotion 2.\n",
    "> - Promotion 1 vs. Promotion 3 (or equivalently Promotion 2 vs. Promotion 3).\n",
    "\n",
    "- The degrees of freedom between groups (df=2) allow you to check:\n",
    "\n",
    "> - How much sales differ due to using Promotion 2 instead of Promotion 1.\n",
    "> - How much sales differ due to using Promotion 3 instead of Promotion 1.\n",
    "\n",
    "- A high **F-statistic** (like **21.95**) means that the variance between the promotion groups is much larger than the variance within each group. This suggests that promotion type has a strong impact on sales.\n",
    "\n",
    "> - a high F-statistic suggests that sales differ substantially between at least some of the promotion groups.\n",
    "\n",
    "- The **p-value** tells us whether the the promotions are significantly different or not.\n",
    "\n",
    "> - Testing whether promotions affect sales:\n",
    "    \n",
    "            - H0: Mean sales are the same across all promotions.\n",
    "        \n",
    "            - HA: Mean sales differ for at least one promotion (no assumption about which is higher or lower).\n",
    "            \n",
    "**P.S. HA is TRUE**\n",
    "            \n",
    "            \n",
    "> - Since our **Pvalue** is 6.77 X 10 Exponant -10 < 0.05.  This means it is highly unlikely that the observed differences in sales between promotion groups occurred by random chance.\n",
    "\n",
    "A high F-statistic paired with a very small p-value confirms that the differences in sales are statistically significant.\n",
    "\n",
    "**Conclusion:** The test shows that sales are significantly different between the promotion groups. This means that at least one promotion is performing better or worse than the others in terms of sales."
   ]
  },
  {
   "cell_type": "markdown",
   "id": "8c8a664b",
   "metadata": {},
   "source": [
    "- Once you know which promotions are more effective, ask:\n",
    "> - Are the better-performing promotions offering a higher discount?\n",
    "> - Do they target a specific market segment more effectively?\n",
    "> - Are they running in larger or smaller markets?"
   ]
  },
  {
   "cell_type": "markdown",
   "id": "aca1711a",
   "metadata": {},
   "source": [
    "### 2. Post-Hoc Analysis"
   ]
  },
  {
   "cell_type": "markdown",
   "id": "a3ea4fe8",
   "metadata": {},
   "source": [
    "the **Games-Howell post-hoc test**, which is used to compare group means while accounting for unequal variances and sample sizes."
   ]
  },
  {
   "cell_type": "code",
   "execution_count": 18,
   "id": "45de4f08",
   "metadata": {},
   "outputs": [
    {
     "name": "stdout",
     "output_type": "stream",
     "text": [
      "Games-Howell Post-Hoc Results:\n",
      "   A  B    mean(A)    mean(B)       diff        se         T          df  \\\n",
      "0  1  2  58.099012  47.329415  10.769597  1.675542  6.427529  346.783619   \n",
      "1  1  3  58.099012  55.364468   2.734544  1.757393  1.556022  355.918164   \n",
      "2  2  3  47.329415  55.364468  -8.035053  1.646058 -4.881393  370.020530   \n",
      "\n",
      "           pval    hedges  \n",
      "0  1.286439e-09  0.679522  \n",
      "1  2.662448e-01  0.163744  \n",
      "2  4.684643e-06 -0.502467  \n"
     ]
    }
   ],
   "source": [
    "from pingouin import pairwise_gameshowell\n",
    "\n",
    "gameshowell_results = pairwise_gameshowell(\n",
    "    data=df,\n",
    "    dv='SalesInThousands',   # Dependent variable\n",
    "    between='Promotion'      # Grouping variable\n",
    ")\n",
    "\n",
    "print(\"Games-Howell Post-Hoc Results:\")\n",
    "print(gameshowell_results)"
   ]
  },
  {
   "cell_type": "code",
   "execution_count": 22,
   "id": "6900a072",
   "metadata": {},
   "outputs": [
    {
     "data": {
      "text/html": [
       "<div>\n",
       "<style scoped>\n",
       "    .dataframe tbody tr th:only-of-type {\n",
       "        vertical-align: middle;\n",
       "    }\n",
       "\n",
       "    .dataframe tbody tr th {\n",
       "        vertical-align: top;\n",
       "    }\n",
       "\n",
       "    .dataframe thead th {\n",
       "        text-align: right;\n",
       "    }\n",
       "</style>\n",
       "<table border=\"1\" class=\"dataframe\">\n",
       "  <thead>\n",
       "    <tr style=\"text-align: right;\">\n",
       "      <th></th>\n",
       "      <th>A</th>\n",
       "      <th>B</th>\n",
       "      <th>mean(A)</th>\n",
       "      <th>mean(B)</th>\n",
       "      <th>diff</th>\n",
       "      <th>se</th>\n",
       "      <th>T</th>\n",
       "      <th>df</th>\n",
       "      <th>pval</th>\n",
       "      <th>hedges</th>\n",
       "    </tr>\n",
       "  </thead>\n",
       "  <tbody>\n",
       "    <tr>\n",
       "      <th>0</th>\n",
       "      <td>1</td>\n",
       "      <td>2</td>\n",
       "      <td>58.099012</td>\n",
       "      <td>47.329415</td>\n",
       "      <td>10.769597</td>\n",
       "      <td>1.675542</td>\n",
       "      <td>6.427529</td>\n",
       "      <td>346.783619</td>\n",
       "      <td>1.286439e-09</td>\n",
       "      <td>0.679522</td>\n",
       "    </tr>\n",
       "    <tr>\n",
       "      <th>1</th>\n",
       "      <td>1</td>\n",
       "      <td>3</td>\n",
       "      <td>58.099012</td>\n",
       "      <td>55.364468</td>\n",
       "      <td>2.734544</td>\n",
       "      <td>1.757393</td>\n",
       "      <td>1.556022</td>\n",
       "      <td>355.918164</td>\n",
       "      <td>2.662448e-01</td>\n",
       "      <td>0.163744</td>\n",
       "    </tr>\n",
       "    <tr>\n",
       "      <th>2</th>\n",
       "      <td>2</td>\n",
       "      <td>3</td>\n",
       "      <td>47.329415</td>\n",
       "      <td>55.364468</td>\n",
       "      <td>-8.035053</td>\n",
       "      <td>1.646058</td>\n",
       "      <td>-4.881393</td>\n",
       "      <td>370.020530</td>\n",
       "      <td>4.684643e-06</td>\n",
       "      <td>-0.502467</td>\n",
       "    </tr>\n",
       "  </tbody>\n",
       "</table>\n",
       "</div>"
      ],
      "text/plain": [
       "   A  B    mean(A)    mean(B)       diff        se         T          df  \\\n",
       "0  1  2  58.099012  47.329415  10.769597  1.675542  6.427529  346.783619   \n",
       "1  1  3  58.099012  55.364468   2.734544  1.757393  1.556022  355.918164   \n",
       "2  2  3  47.329415  55.364468  -8.035053  1.646058 -4.881393  370.020530   \n",
       "\n",
       "           pval    hedges  \n",
       "0  1.286439e-09  0.679522  \n",
       "1  2.662448e-01  0.163744  \n",
       "2  4.684643e-06 -0.502467  "
      ]
     },
     "execution_count": 22,
     "metadata": {},
     "output_type": "execute_result"
    }
   ],
   "source": [
    "gameshowell_results = pd.DataFrame(gameshowell_results)\n",
    "gameshowell_results"
   ]
  },
  {
   "cell_type": "markdown",
   "id": "f921c34a",
   "metadata": {},
   "source": [
    "#### Interpretation\n",
    "\n",
    "- Promotion 1 VS Promotion 2\n",
    "    - Diff = 10.77\n",
    "    - T-value = 6.4\n",
    "    - P-Value = 1.286439e-09 (**Highly Significant**)\n",
    "    - Hedge's g = 0.679, indicating a moderate to large effect size. (The difference in sales between these groups is meaningful.)\n",
    "    \n",
    "There is a significant difference between Promotion 1 and Promotion 2, the difference between group 1 and 3 is real and is not due to chance.\n",
    "\n",
    "- Promotion 1 vs Promotion 3\n",
    "    - Diff = 2.73\n",
    "    - T-value = 1.5\n",
    "    - P-Value = 2.662448e-01 (** Not Highly Significant**)\n",
    "    - Hedge's g = 0.163, indicating a moderate to large effect size. (The difference is noticeable but not extreme.)\n",
    "    \n",
    "There is no significant difference between Promotion 1 and Promotion 3, meaning that the difference between the two is not and it's probably not due to chance.\n",
    "\n",
    "- Promotion 2 vs Promotion 3\n",
    "    - Diff = -8.03\n",
    "    - T-value = -4.88\n",
    "    - P-Value = 4.684643e-06 (** Not Highly Significant**)\n",
    "    - Hedge's g = -0.502, indicating a moderate to large effect size. (The difference between these groups is very small and likely not meaningful.)\n",
    " \n",
    "There is a significant difference between Promotion 2 and Promotion 3, the difference between group 2 and 3 is real and is not due to chance.\n",
    "\n",
    "A small P-value doesn't tell us if the difference between two groups but doesn't tell us if the difference is significant.\n",
    "\n",
    "Here are some possible explanations why:\n",
    "\n",
    "- Group 2 might be missing a key advantage that Groups 1 and 3 have.\n",
    "- Groups 1 and 3 may share a factor that boosts their performance.\n",
    "- The difference between Group 1 and 3 is small (2.73 difference, p = 0.266), meaning they are similar in performance."
   ]
  },
  {
   "cell_type": "code",
   "execution_count": 33,
   "id": "ca6d793b",
   "metadata": {},
   "outputs": [
    {
     "name": "stderr",
     "output_type": "stream",
     "text": [
      "/var/folders/3f/7yyndr2s1xsd15b1kh2vc2k00000gn/T/ipykernel_50806/2946209479.py:1: FutureWarning: \n",
      "\n",
      "Passing `palette` without assigning `hue` is deprecated and will be removed in v0.14.0. Assign the `x` variable to `hue` and set `legend=False` for the same effect.\n",
      "\n",
      "  sns.boxplot(x='Promotion', y='SalesInThousands', data=df, palette=\"Set2\")\n"
     ]
    },
    {
     "data": {
      "image/png": "[encoded data removed]",
      "text/plain": [
       "<Figure size 432x288 with 1 Axes>"
      ]
     },
     "metadata": {
      "needs_background": "light"
     },
     "output_type": "display_data"
    }
   ],
   "source": [
    "sns.boxplot(x='Promotion', y='SalesInThousands', data=df, palette=\"Set2\")\n",
    "#sns.color_palette(\"rocket\")\n",
    "plt.title(\"Comparison of Group Means\")\n",
    "plt.show()"
   ]
  },
  {
   "cell_type": "markdown",
   "id": "9ab7e34b",
   "metadata": {},
   "source": [
    "- Promotion 1 & 3 seem to have higher median sales than Promotion 2.\n",
    "\n",
    "- Promotion 2 appears to have lower sales and possibly more variation."
   ]
  },
  {
   "cell_type": "markdown",
   "id": "e857d651",
   "metadata": {},
   "source": [
    "Explore Other Variables:\n",
    "Look at potential confounders or interaction effects (e.g., does promotion performance vary by MarketSize or AgeOfStore?)."
   ]
  },
  {
   "cell_type": "markdown",
   "id": "abccc9d0",
   "metadata": {},
   "source": [
    "### MarketSize"
   ]
  },
  {
   "cell_type": "code",
   "execution_count": 36,
   "id": "371ccb86",
   "metadata": {},
   "outputs": [
    {
     "name": "stdout",
     "output_type": "stream",
     "text": [
      "Games-Howell Post-Hoc Results:\n",
      "        A       B    mean(A)    mean(B)       diff        se          T  \\\n",
      "0   Large  Medium  70.116726  43.985344  26.131382  1.409551  18.538804   \n",
      "1   Large   Small  70.116726  57.409333  12.707393  1.569748   8.095178   \n",
      "2  Medium   Small  43.985344  57.409333 -13.423990  0.994648 -13.496227   \n",
      "\n",
      "           df          pval    hedges  \n",
      "0  217.567539  0.000000e+00  2.104579  \n",
      "1  224.447350  5.317968e-14  0.841820  \n",
      "2  105.022509  0.000000e+00 -1.536707  \n"
     ]
    }
   ],
   "source": [
    "gameshowell_marketsize = pairwise_gameshowell(\n",
    "    data=df,\n",
    "    dv='SalesInThousands',   # Dependent variable\n",
    "    between='MarketSize'      # Grouping variable\n",
    ")\n",
    "\n",
    "print(\"Games-Howell Post-Hoc Results:\")\n",
    "print(gameshowell_marketsize)"
   ]
  },
  {
   "cell_type": "code",
   "execution_count": 37,
   "id": "717686ce",
   "metadata": {},
   "outputs": [
    {
     "data": {
      "text/html": [
       "<div>\n",
       "<style scoped>\n",
       "    .dataframe tbody tr th:only-of-type {\n",
       "        vertical-align: middle;\n",
       "    }\n",
       "\n",
       "    .dataframe tbody tr th {\n",
       "        vertical-align: top;\n",
       "    }\n",
       "\n",
       "    .dataframe thead th {\n",
       "        text-align: right;\n",
       "    }\n",
       "</style>\n",
       "<table border=\"1\" class=\"dataframe\">\n",
       "  <thead>\n",
       "    <tr style=\"text-align: right;\">\n",
       "      <th></th>\n",
       "      <th>A</th>\n",
       "      <th>B</th>\n",
       "      <th>mean(A)</th>\n",
       "      <th>mean(B)</th>\n",
       "      <th>diff</th>\n",
       "      <th>se</th>\n",
       "      <th>T</th>\n",
       "      <th>df</th>\n",
       "      <th>pval</th>\n",
       "      <th>hedges</th>\n",
       "    </tr>\n",
       "  </thead>\n",
       "  <tbody>\n",
       "    <tr>\n",
       "      <th>0</th>\n",
       "      <td>Large</td>\n",
       "      <td>Medium</td>\n",
       "      <td>70.116726</td>\n",
       "      <td>43.985344</td>\n",
       "      <td>26.131382</td>\n",
       "      <td>1.409551</td>\n",
       "      <td>18.538804</td>\n",
       "      <td>217.567539</td>\n",
       "      <td>0.000000e+00</td>\n",
       "      <td>2.104579</td>\n",
       "    </tr>\n",
       "    <tr>\n",
       "      <th>1</th>\n",
       "      <td>Large</td>\n",
       "      <td>Small</td>\n",
       "      <td>70.116726</td>\n",
       "      <td>57.409333</td>\n",
       "      <td>12.707393</td>\n",
       "      <td>1.569748</td>\n",
       "      <td>8.095178</td>\n",
       "      <td>224.447350</td>\n",
       "      <td>5.317968e-14</td>\n",
       "      <td>0.841820</td>\n",
       "    </tr>\n",
       "    <tr>\n",
       "      <th>2</th>\n",
       "      <td>Medium</td>\n",
       "      <td>Small</td>\n",
       "      <td>43.985344</td>\n",
       "      <td>57.409333</td>\n",
       "      <td>-13.423990</td>\n",
       "      <td>0.994648</td>\n",
       "      <td>-13.496227</td>\n",
       "      <td>105.022509</td>\n",
       "      <td>0.000000e+00</td>\n",
       "      <td>-1.536707</td>\n",
       "    </tr>\n",
       "  </tbody>\n",
       "</table>\n",
       "</div>"
      ],
      "text/plain": [
       "        A       B    mean(A)    mean(B)       diff        se          T  \\\n",
       "0   Large  Medium  70.116726  43.985344  26.131382  1.409551  18.538804   \n",
       "1   Large   Small  70.116726  57.409333  12.707393  1.569748   8.095178   \n",
       "2  Medium   Small  43.985344  57.409333 -13.423990  0.994648 -13.496227   \n",
       "\n",
       "           df          pval    hedges  \n",
       "0  217.567539  0.000000e+00  2.104579  \n",
       "1  224.447350  5.317968e-14  0.841820  \n",
       "2  105.022509  0.000000e+00 -1.536707  "
      ]
     },
     "execution_count": 37,
     "metadata": {},
     "output_type": "execute_result"
    }
   ],
   "source": [
    "gameshowell_marketsize_pd = pd.DataFrame(gameshowell_marketsize)\n",
    "gameshowell_marketsize_pd"
   ]
  },
  {
   "cell_type": "markdown",
   "id": "9d2e91f0",
   "metadata": {},
   "source": [
    "#### Interpretation\n",
    "\n",
    "- MarketSize Large vs MarketSize Medium \n",
    "\n",
    "    - Diff = 26.131\n",
    "    - T-value = 18.54\n",
    "    - P-Value = 0 (**Highly Significant**)\n",
    "    - Hedge's g = 2.104, indicating a very large effect size (the difference between these groups is meaniingful)\n",
    "    \n",
    "Sales are significantly different in large markets than medium market.\n",
    "\n",
    "- MarketSize Large vs MarketSize Small\n",
    "\n",
    "    - Diff = 12.708\n",
    "    - T-value = 8.09\n",
    "    - P-Value = 5.31 - 14 (**Highly Significant**)\n",
    "    - Hedge's g = 0.84, indicating large effect size (the difference between these groups is meaniingful)\n",
    "    \n",
    "Sales are also significantly higher in Large markets than Small markets, but the effect size is smaller compared to the Large vs Medium difference.\n",
    "\n",
    "- MarketSize Medium vs MarketSize Small\n",
    "\n",
    "    - Diff = - 13.42\n",
    "    - T-value = - 13.50\n",
    "    - P-Value = 0.000 (**Highly Significant**)\n",
    "    - Hedge's g = 1.54, indicating a very large effect size (the difference between these groups is meaniingful)\n",
    "    \n",
    "Surprisingly small markets outperforms medium markets, meaning Medium-sized markets have the lowest sales.\n",
    "\n",
    "\n",
    "- Large Markets have the highest sales\n",
    "- Medium Markets perform the worst (fix needed)\n",
    "- Small Markets do better than Medium (unexpected trend)"
   ]
  },
  {
   "cell_type": "code",
   "execution_count": 38,
   "id": "bb1e7fc3",
   "metadata": {},
   "outputs": [
    {
     "name": "stderr",
     "output_type": "stream",
     "text": [
      "/var/folders/3f/7yyndr2s1xsd15b1kh2vc2k00000gn/T/ipykernel_50806/69915775.py:1: FutureWarning: \n",
      "\n",
      "Passing `palette` without assigning `hue` is deprecated and will be removed in v0.14.0. Assign the `x` variable to `hue` and set `legend=False` for the same effect.\n",
      "\n",
      "  sns.boxplot(x='MarketSize', y='SalesInThousands', data=df, palette=\"Set2\")\n"
     ]
    },
    {
     "data": {
      "image/png": "[encoded data removed]",
      "text/plain": [
       "<Figure size 432x288 with 1 Axes>"
      ]
     },
     "metadata": {
      "needs_background": "light"
     },
     "output_type": "display_data"
    }
   ],
   "source": [
    "sns.boxplot(x='MarketSize', y='SalesInThousands', data=df, palette=\"Set2\")\n",
    "#sns.color_palette(\"rocket\")\n",
    "plt.title(\"Comparison of Group Means\")\n",
    "plt.show()"
   ]
  },
  {
   "cell_type": "code",
   "execution_count": 40,
   "id": "a65f04df",
   "metadata": {},
   "outputs": [
    {
     "name": "stderr",
     "output_type": "stream",
     "text": [
      "/var/folders/3f/7yyndr2s1xsd15b1kh2vc2k00000gn/T/ipykernel_50806/521979222.py:1: FutureWarning: \n",
      "\n",
      "The `ci` parameter is deprecated. Use `errorbar=('ci', 95)` for the same effect.\n",
      "\n",
      "  sns.barplot(x='MarketSize', y='SalesInThousands', data=df, ci=95, palette=\"Set2\")\n",
      "/var/folders/3f/7yyndr2s1xsd15b1kh2vc2k00000gn/T/ipykernel_50806/521979222.py:1: FutureWarning: \n",
      "\n",
      "Passing `palette` without assigning `hue` is deprecated and will be removed in v0.14.0. Assign the `x` variable to `hue` and set `legend=False` for the same effect.\n",
      "\n",
      "  sns.barplot(x='MarketSize', y='SalesInThousands', data=df, ci=95, palette=\"Set2\")\n"
     ]
    },
    {
     "data": {
      "image/png": "[encoded data removed]",
      "text/plain": [
       "<Figure size 432x288 with 1 Axes>"
      ]
     },
     "metadata": {
      "needs_background": "light"
     },
     "output_type": "display_data"
    }
   ],
   "source": [
    "sns.barplot(x='MarketSize', y='SalesInThousands', data=df, ci=95, palette=\"Set2\")\n",
    "plt.title(\"Average Sales by Market Size with 95% CI\")\n",
    "plt.show()"
   ]
  },
  {
   "cell_type": "markdown",
   "id": "11462bbf",
   "metadata": {},
   "source": [
    "### Interaction"
   ]
  },
  {
   "cell_type": "code",
   "execution_count": 41,
   "id": "6d902e86",
   "metadata": {},
   "outputs": [
    {
     "name": "stdout",
     "output_type": "stream",
     "text": [
      "                                  sum_sq     df           F        PR(>F)\n",
      "C(Promotion)                12979.270759    2.0   56.241683  6.549744e-23\n",
      "C(MarketSize)               77803.041539    2.0  337.135582  1.087739e-95\n",
      "C(Promotion):C(MarketSize)   2116.739627    4.0    4.586120  1.194444e-03\n",
      "Residual                    62194.324249  539.0         NaN           NaN\n"
     ]
    }
   ],
   "source": [
    "model = ols('SalesInThousands ~ C(Promotion) * C(MarketSize)', data=df).fit()\n",
    "anova_results = sm.stats.anova_lm(model, typ=2)\n",
    "print(anova_results)"
   ]
  },
  {
   "cell_type": "code",
   "execution_count": 42,
   "id": "3c1cd97e",
   "metadata": {},
   "outputs": [
    {
     "data": {
      "text/html": [
       "<div>\n",
       "<style scoped>\n",
       "    .dataframe tbody tr th:only-of-type {\n",
       "        vertical-align: middle;\n",
       "    }\n",
       "\n",
       "    .dataframe tbody tr th {\n",
       "        vertical-align: top;\n",
       "    }\n",
       "\n",
       "    .dataframe thead th {\n",
       "        text-align: right;\n",
       "    }\n",
       "</style>\n",
       "<table border=\"1\" class=\"dataframe\">\n",
       "  <thead>\n",
       "    <tr style=\"text-align: right;\">\n",
       "      <th></th>\n",
       "      <th>sum_sq</th>\n",
       "      <th>df</th>\n",
       "      <th>F</th>\n",
       "      <th>PR(&gt;F)</th>\n",
       "    </tr>\n",
       "  </thead>\n",
       "  <tbody>\n",
       "    <tr>\n",
       "      <th>C(Promotion)</th>\n",
       "      <td>12979.270759</td>\n",
       "      <td>2.0</td>\n",
       "      <td>56.241683</td>\n",
       "      <td>6.549744e-23</td>\n",
       "    </tr>\n",
       "    <tr>\n",
       "      <th>C(MarketSize)</th>\n",
       "      <td>77803.041539</td>\n",
       "      <td>2.0</td>\n",
       "      <td>337.135582</td>\n",
       "      <td>1.087739e-95</td>\n",
       "    </tr>\n",
       "    <tr>\n",
       "      <th>C(Promotion):C(MarketSize)</th>\n",
       "      <td>2116.739627</td>\n",
       "      <td>4.0</td>\n",
       "      <td>4.586120</td>\n",
       "      <td>1.194444e-03</td>\n",
       "    </tr>\n",
       "    <tr>\n",
       "      <th>Residual</th>\n",
       "      <td>62194.324249</td>\n",
       "      <td>539.0</td>\n",
       "      <td>NaN</td>\n",
       "      <td>NaN</td>\n",
       "    </tr>\n",
       "  </tbody>\n",
       "</table>\n",
       "</div>"
      ],
      "text/plain": [
       "                                  sum_sq     df           F        PR(>F)\n",
       "C(Promotion)                12979.270759    2.0   56.241683  6.549744e-23\n",
       "C(MarketSize)               77803.041539    2.0  337.135582  1.087739e-95\n",
       "C(Promotion):C(MarketSize)   2116.739627    4.0    4.586120  1.194444e-03\n",
       "Residual                    62194.324249  539.0         NaN           NaN"
      ]
     },
     "execution_count": 42,
     "metadata": {},
     "output_type": "execute_result"
    }
   ],
   "source": [
    "anova_results_df = pd.DataFrame(anova_results)\n",
    "anova_results_df"
   ]
  },
  {
   "cell_type": "markdown",
   "id": "cf98dacb",
   "metadata": {},
   "source": [
    "- **Promotion:**\n",
    "\n",
    "> - Sum of Squares: 12979, represents how much sales is explained by promotion.\n",
    "> - F-statistic: 56.24 (Strong effect), means that how much the promotion is affecting Sales  \n",
    "> - P-value: 6.55e-23 < 0.05 (Highly significant), we reject the null hypothesis and conclude that promotion type has a significant effect on sales.\n",
    "\n",
    "- **MarketSize:**\n",
    "\n",
    "> - Sum of squares: 77803, represents how much sales is explained by promotion.\n",
    "> - F-Statistic: 337.13 (Strong effect), means that how much the marketsize is affecting sales.\n",
    "> - P-value: 1.087e-95 < 0.05 (Highly significant), means that we reject the null hypothesis and conclude that market size has the biggest influence on sales.\n",
    "\n",
    "- **Interaction between promotion and market size on sales:**\n",
    "\n",
    "> -  Sum of squares: 2116.73, represents how much sales is explained by the combination of promotion and sales.\n",
    "> - F-Statistic: 4.59 (Moderate effect),means that promortion behave differently across different market. \n",
    "> - P-value: 1.194e-03, we reject the null hypothesis, and conclude that the effectiveness of a promotion depends on the market size.\n",
    "\n",
    "- **Conclusion:**\n",
    "\n",
    "> - **Market Size** matters the most - the strongest driver of sales is whether the market is **large, medium or small**\n",
    "> - **Promotions** also matter - some promotion are better at driving sales than others.\n",
    "> - **Promotions also work differently in each market** - use differemt promotion across different markets"
   ]
  },
  {
   "cell_type": "code",
   "execution_count": 49,
   "id": "e6513331",
   "metadata": {},
   "outputs": [
    {
     "name": "stdout",
     "output_type": "stream",
     "text": [
      "\n",
      "Games-Howell Post-Hoc Results for Market Size: Medium\n",
      "   A  B    mean(A)    mean(B)      diff        se         T          df  \\\n",
      "0  1  2  47.672604  39.114352  8.558252  1.181601  7.242931  201.811167   \n",
      "1  1  3  47.672604  45.468879  2.203725  1.114600  1.977143  202.869349   \n",
      "2  2  3  39.114352  45.468879 -6.354527  1.132538 -5.610872  216.720338   \n",
      "\n",
      "           pval    hedges  \n",
      "0  2.708989e-11  1.006971  \n",
      "1  1.204847e-01  0.271746  \n",
      "2  1.829239e-07 -0.749998  \n",
      "\n",
      "Games-Howell Post-Hoc Results for Market Size: Small\n",
      "   A  B    mean(A)    mean(B)      diff        se         T         df  \\\n",
      "0  1  2  60.162500  50.810625  9.351875  1.862222  5.021891  30.059016   \n",
      "1  1  3  60.162500  59.514167  0.648333  1.564168  0.414491  40.813333   \n",
      "2  2  3  50.810625  59.514167 -8.703542  1.812620 -4.801635  29.585459   \n",
      "\n",
      "       pval    hedges  \n",
      "0  0.000063  1.672495  \n",
      "1  0.909860  0.123050  \n",
      "2  0.000122 -1.556258  \n",
      "\n",
      "Games-Howell Post-Hoc Results for Market Size: Large\n",
      "   A  B    mean(A)    mean(B)       diff        se         T          df  \\\n",
      "0  1  2  75.235893  60.322031  14.913862  2.855558  5.222749  116.325087   \n",
      "1  1  3  75.235893  77.203958  -1.968065  2.934106 -0.670755  101.313257   \n",
      "2  2  3  60.322031  77.203958 -16.881927  2.861049 -5.900608  105.639322   \n",
      "\n",
      "           pval    hedges  \n",
      "0  2.332457e-06  0.948634  \n",
      "1  7.809787e-01 -0.130221  \n",
      "2  1.322998e-07 -1.104863  \n"
     ]
    }
   ],
   "source": [
    "# Games Howell \n",
    "\n",
    "\n",
    "gameshowell_results = {}\n",
    "\n",
    "# Loop through each Market Size and perform Games-Howell for Promotion within that Market Size\n",
    "for market in df['MarketSize'].unique():\n",
    "    subset = df[df['MarketSize'] == market]\n",
    "    result = pairwise_gameshowell(data=subset, dv='SalesInThousands', between='Promotion')\n",
    "    gameshowell_results[market] = result\n",
    "    \n",
    "    \n",
    "for market, result in gameshowell_results.items():\n",
    "    print(f\"\\nGames-Howell Post-Hoc Results for Market Size: {market}\")\n",
    "    print(result)"
   ]
  },
  {
   "cell_type": "markdown",
   "id": "e22cbdbf",
   "metadata": {},
   "source": [
    "# Interpretation of Promotion Performance\n",
    "\n",
    "## Medium Market \n",
    "\n",
    "### Promotion 1 vs Promotion 2\n",
    "\n",
    "- **Difference**: 8.55\n",
    "- **T-value**: 7.24\n",
    "- **P-value**: 2.708e-11 (Highly significant, p < 0.05)\n",
    "- **Hedges' g**: 1.00 (Large effect size)\n",
    "\n",
    "**Conclusion**:  \n",
    "- **Promotion 1 significantly outperforms Promotion 2** in Medium markets.  \n",
    "- The large effect size indicates this difference is meaningful in practice.\n",
    "\n",
    "### Promotion 1 vs Promotion 3\n",
    "\n",
    "- **Difference**: 2.203 (Closer performance compared to Promotion 2)\n",
    "- **T-value**: 1.97\n",
    "- **P-value**: 1.204e-01 (Not significant, p > 0.05)\n",
    "- **Hedges' g**: 0.271 (Small effect size)\n",
    "\n",
    "**Conclusion**:  \n",
    "- There is **no significant difference** between Promotion 1 and Promotion 3 in Medium markets.  \n",
    "- The small effect size suggests **similar performance** between the two promotions.\n",
    "\n",
    "### Promotion 2 vs Promotion 3\n",
    "\n",
    "- **Difference**: -6.35 (Promotion 2 underperforms compared to Promotion 3)\n",
    "- **T-value**: -5.61\n",
    "- **P-value**: 1.829e-07 (Highly significant, p < 0.05)\n",
    "- **Hedges' g**: -0.74999 (Moderate effect size)\n",
    "\n",
    "**Conclusion**:  \n",
    "- **Promotion 2 significantly underperforms compared to Promotion 3** in Medium markets.  \n",
    "- The moderate effect size indicates that this difference is **practically meaningful**.\n",
    "\n",
    "---\n",
    "\n",
    "## Small Market\n",
    "\n",
    "### Promotion 1 vs Promotion 2\n",
    "\n",
    "- **Difference**: 9.351\n",
    "- **T-value**: 5.021\n",
    "- **P-value**: 0.000063 (Highly significant, p < 0.05)\n",
    "- **Hedges' g**: 1.67 (Large effect size)\n",
    "\n",
    "**Conclusion**:  \n",
    "- **Promotion 1 significantly outperforms Promotion 2** in Small markets.  \n",
    "- The large effect size indicates this difference is **meaningful in practice**.\n",
    "\n",
    "### Promotion 1 vs Promotion 3\n",
    "\n",
    "- **Difference**: 0.648 (Very small difference)\n",
    "- **T-value**: 0.414 (Minimal difference)\n",
    "- **P-value**: 0.909 (Not significant, p > 0.05)\n",
    "- **Hedges' g**: 0.123 (Small effect size)\n",
    "\n",
    "**Conclusion**:  \n",
    "- There is **no significant difference** between Promotion 1 and Promotion 3 in Small markets.  \n",
    "- The small effect size suggests **similar performance** between the two promotions.\n",
    "\n",
    "### Promotion 2 vs Promotion 3\n",
    "\n",
    "- **Difference**: -8.7035 (Moderate difference)\n",
    "- **T-value**: -4.8016 (Significant difference)\n",
    "- **P-value**: 0.000122 (Highly significant, p < 0.05)\n",
    "- **Hedges' g**: -1.556 (Large effect size)\n",
    "\n",
    "**Conclusion**:  \n",
    "- **Promotion 2 significantly underperforms compared to Promotion 3** in Small markets.  \n",
    "- The large effect size suggests **Promotion 3 performs significantly better** than Promotion 2.\n",
    "\n",
    "---\n",
    "\n",
    "## Large Market\n",
    "\n",
    "### Promotion 1 vs Promotion 2\n",
    "\n",
    "- **Difference**: 14.91 (Large difference in mean sales)\n",
    "- **T-value**: 5.222 (Moderate effect)\n",
    "- **P-value**: 2.332e-06 (Highly significant, p < 0.05)\n",
    "- **Hedges' g**: 0.9486 (Large effect size)\n",
    "\n",
    "**Conclusion**:  \n",
    "- **Promotion 1 significantly outperforms Promotion 2** in Large markets.  \n",
    "- The large effect size indicates that this difference is **meaningful in practice**.\n",
    "\n",
    "### Promotion 1 vs Promotion 3\n",
    "\n",
    "- **Difference**: -1.968 (Very small difference)\n",
    "- **T-value**: -0.6707 (Minimal difference)\n",
    "- **P-value**: 0.781 (Not significant, p > 0.05)\n",
    "- **Hedges' g**: -0.1302 (Small effect size)\n",
    "\n",
    "**Conclusion**:  \n",
    "- There is **no significant difference** between Promotion 1 and Promotion 3 in Large markets.  \n",
    "- The small effect size suggests **similar performance** between the two promotions.\n",
    "\n",
    "### Promotion 2 vs Promotion 3\n",
    "\n",
    "- **Difference**: -16.8819 (Large difference in mean sales)\n",
    "- **T-value**: -5.2227 (Significant difference)\n",
    "- **P-value**: 2.332e-06 (Highly significant, p < 0.05)\n",
    "- **Hedges' g**: -1.1048 (Large effect size)\n",
    "\n",
    "**Conclusion**:  \n",
    "- **Promotion 2 significantly underperforms compared to Promotion 3** in Large markets.  \n",
    "- The large effect size suggests **Promotion 3 outperforms Promotion 2 significantly** in this market.\n"
   ]
  },
  {
   "cell_type": "code",
   "execution_count": 48,
   "id": "e36d3be6",
   "metadata": {},
   "outputs": [
    {
     "data": {
      "image/png": "[encoded data removed]",
      "text/plain": [
       "<Figure size 720x432 with 1 Axes>"
      ]
     },
     "metadata": {
      "needs_background": "light"
     },
     "output_type": "display_data"
    }
   ],
   "source": [
    "plt.figure(figsize=(10,6))\n",
    "sns.pointplot(x='Promotion', y='SalesInThousands', hue='MarketSize', data=df, dodge=True, markers=['o', 's', 'D'])\n",
    "plt.title(\"Interaction Between Promotion and Market Size\")\n",
    "plt.xlabel(\"Promotion Type\")\n",
    "plt.ylabel(\"Mean Sales (in Thousands)\")\n",
    "plt.legend(title=\"Market Size\")\n",
    "plt.show()"
   ]
  },
  {
   "cell_type": "markdown",
   "id": "822f59e8",
   "metadata": {},
   "source": [
    "## Conclusion\n",
    "\n",
    "1. **Promotion 1 is the most consistently high-performing strategy across all markets sizes**, it outperforms promotion 2 in every category. Suggesting that promotion 1 is the best choice to maximize sales.\n",
    "\n",
    "\n",
    "2. **Promotion 3 performs similarly to promotion 1 in some instances,** except against Promotion 2 as it shows a better performance. in both small and large market there's no clear significance between them. They could be considered a reliable promotion that could generate great sales too.\n",
    "\n",
    "\n",
    "3. **Promotion 2 consistently underperforms in all market sizes, underperforming behind promotion 1 and promotion 3..** The large effect size suggest that promotion 2 is the least effective at generating sales. "
   ]
  }
 ],
 "metadata": {
  "kernelspec": {
   "display_name": "Python 3 (ipykernel)",
   "language": "python",
   "name": "python3"
  },
  "language_info": {
   "codemirror_mode": {
    "name": "ipython",
    "version": 3
   },
   "file_extension": ".py",
   "mimetype": "text/x-python",
   "name": "python",
   "nbconvert_exporter": "python",
   "pygments_lexer": "ipython3",
   "version": "3.9.12"
  }
 },
 "nbformat": 4,
 "nbformat_minor": 5
}
